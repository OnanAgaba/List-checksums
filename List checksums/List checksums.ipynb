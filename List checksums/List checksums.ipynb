{
 "cells": [
  {
   "cell_type": "markdown",
   "metadata": {},
   "source": [
    "**Step 1:** \n",
    "For practice, create the pickle file. \n",
    "It is important for saving the number of trees"
   ]
  },
  {
   "cell_type": "code",
   "execution_count": 9,
   "metadata": {},
   "outputs": [
    {
     "name": "stdout",
     "output_type": "stream",
     "text": [
      "numbertrees.pickle file created successfully.\n"
     ]
    },
    {
     "data": {
      "text/plain": [
       "list"
      ]
     },
     "execution_count": 9,
     "metadata": {},
     "output_type": "execute_result"
    }
   ],
   "source": [
    "import pickle\n",
    "\n",
    "# Define the example number trees\n",
    "number_trees = [\n",
    "    [],                                   # list1, checksum = 0\n",
    "    [1],                                  # list2, checksum = 1\n",
    "    [[1]],                                # list3, checksum = 2\n",
    "    [[[5]]],                              # list4, checksum = 15\n",
    "    [[], [], []],                         # list5, checksum = 0\n",
    "    [1, [1], [[1]]],                      # list6, checksum = 6\n",
    "    [1, 4, [],-3, [0, 14, [1]], 0, 10],    # list7, checksum = 43\n",
    "]\n",
    "\n",
    "# Create the pickle file and save the number trees\n",
    "with open(\"numbertrees.pickle\", \"wb\") as f:\n",
    "    for tree in number_trees:\n",
    "        pickle.dump(tree, f)\n",
    "\n",
    "print(\"numbertrees.pickle file created successfully.\")\n",
    "\n",
    "type(number_trees)"
   ]
  },
  {
   "cell_type": "markdown",
   "metadata": {},
   "source": [
    "**Step 2:** Use the recursive function to calculate the checksum for all well-defined number trees in the file. Different exception handling techniques were used to handle crashes gracefully"
   ]
  },
  {
   "cell_type": "code",
   "execution_count": 10,
   "metadata": {},
   "outputs": [
    {
     "name": "stdout",
     "output_type": "stream",
     "text": [
      "[] #checksum = 0\n",
      "[1] #checksum = 1\n",
      "[[1]] #checksum = 2\n",
      "[[[5]]] #checksum = 15\n",
      "[[], [], []] #checksum = 0\n",
      "[1, [1], [[1]]] #checksum = 6\n",
      "[1, 4, [], -3, [0, 14, [1]], 0, 10] #checksum = 43\n"
     ]
    }
   ],
   "source": [
    "# Define the function with a default parameter as input file name\n",
    "def input(filename='numbertrees.pickle'):\n",
    "    results = []                         # Creates an empty list to store the results\n",
    "    \n",
    "    # Opens the pickle file for reading\n",
    "    try:\n",
    "        with open(filename, 'rb') as inputfile:\n",
    "            while True:\n",
    "                try:\n",
    "                    number_tree = pickle.load(inputfile)       # Load one number tree at a time\n",
    "                    checksum = calculate_checksum(number_tree) # Calculate its checksum\n",
    "                    results.append(f\"{number_tree} #checksum = {checksum}\")  # Append result\n",
    "                except EOFError:            # End of file reached\n",
    "                    break\n",
    "                except Exception as e:      # Handle errors during processing\n",
    "                    results.append(f\"Error processing tree: {e}\")\n",
    "    except FileNotFoundError:               # Handle the case where the file is missing \n",
    "        results.append(f\"Error: The file '{filename}' was not found.\")\n",
    "    except Exception as e:                  # Handle any other errors that may occur\n",
    "        results.append(f\"Error processing file: {e}\")\n",
    "    \n",
    "    return results                          # Return the list of results\n",
    "\n",
    "# Recursive function to calculate checksum of a number tree\n",
    "def calculate_checksum(tree, depth=1):\n",
    "    return sum(\n",
    "        item * depth if isinstance(item, int) else calculate_checksum(item, depth + 1)\n",
    "        for item in tree\n",
    "    )\n",
    "\n",
    "results = input()  # Calls the input function and assigns its return value to 'results'\n",
    "for result in results:\n",
    "    print(result)  # Prints each result\n"
   ]
  }
 ],
 "metadata": {
  "kernelspec": {
   "display_name": "Python 3",
   "language": "python",
   "name": "python3"
  },
  "language_info": {
   "codemirror_mode": {
    "name": "ipython",
    "version": 3
   },
   "file_extension": ".py",
   "mimetype": "text/x-python",
   "name": "python",
   "nbconvert_exporter": "python",
   "pygments_lexer": "ipython3",
   "version": "3.12.3"
  }
 },
 "nbformat": 4,
 "nbformat_minor": 2
}
